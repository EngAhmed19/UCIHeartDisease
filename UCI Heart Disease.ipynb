{
 "cells": [
  {
   "cell_type": "code",
   "execution_count": 1,
   "id": "a056b62a-8f59-467e-8378-a5a01627a571",
   "metadata": {},
   "outputs": [],
   "source": [
    "import numpy as np\n",
    "import pandas as pd\n",
    "import matplotlib.pyplot as plt\n",
    "import seaborn as sns\n",
    "sns.set_style(\"darkgrid\")\n",
    "sns.set_palette(\"Set2\")\n",
    "\n",
    "plasma_palette=sns.color_palette(\"plasma\")\n",
    "cool_palette=sns.color_palette(\"cool\")\n",
    "viridis_palette=sns.color_palette(\"viridis\")\n",
    "inferno_palette=sns.color_palette(\"inferno\")\n",
    "icefire_palette=sns.color_palette(\"icefire\")\n",
    "icefire_r_palette=sns.color_palette(\"icefire_r\")\n",
    "mako_palette=sns.color_palette(\"mako\")\n",
    "\n",
    "import warnings\n",
    "warnings.filterwarnings(\"ignore\")"
   ]
  },
  {
   "cell_type": "code",
   "execution_count": null,
   "id": "967d08f5-9fd6-4971-a1da-827250209aa1",
   "metadata": {},
   "outputs": [],
   "source": []
  }
 ],
 "metadata": {
  "kernelspec": {
   "display_name": "Python 3 (ipykernel)",
   "language": "python",
   "name": "python3"
  },
  "language_info": {
   "codemirror_mode": {
    "name": "ipython",
    "version": 3
   },
   "file_extension": ".py",
   "mimetype": "text/x-python",
   "name": "python",
   "nbconvert_exporter": "python",
   "pygments_lexer": "ipython3",
   "version": "3.11.0"
  }
 },
 "nbformat": 4,
 "nbformat_minor": 5
}
